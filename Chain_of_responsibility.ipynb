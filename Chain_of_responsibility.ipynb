{
 "cells": [
  {
   "cell_type": "code",
   "execution_count": 7,
   "metadata": {},
   "outputs": [
    {
     "name": "stdout",
     "output_type": "stream",
     "text": [
      "Количество монет номиналом 1 центов: 2\n",
      "Количество монет номиналом 5 центов: 3\n",
      "Количество монет номиналом 10 центов: 1\n",
      "Количество монет номиналом 25 центов: 4\n",
      "Общая сумма внесенных монет: 127 центов\n"
     ]
    }
   ],
   "source": [
    "class CoinReceiver:\n",
    "    def __init__(self, denomination):\n",
    "        self.denomination = denomination\n",
    "        self.count = 0\n",
    "        self.successor = None  # Поле для хранения следующего приемника монет\n",
    "\n",
    "    def set_successor(self, successor):\n",
    "        self.successor = successor\n",
    "\n",
    "    def receive_coin(self, coin_value):\n",
    "        if coin_value == self.denomination:\n",
    "            self.count += 1\n",
    "        elif self.successor:\n",
    "            self.successor.receive_coin(coin_value)\n",
    "\n",
    "class CoinMachine:\n",
    "    def __init__(self):\n",
    "        self.receiver1 = CoinReceiver(1)\n",
    "        self.receiver2 = CoinReceiver(5)\n",
    "        self.receiver3 = CoinReceiver(10)\n",
    "        self.receiver4 = CoinReceiver(25)\n",
    "\n",
    "        self.receiver1.set_successor(self.receiver2)\n",
    "        self.receiver2.set_successor(self.receiver3)\n",
    "        self.receiver3.set_successor(self.receiver4)\n",
    "        \n",
    "        self.receivers = [1, 5, 10, 25]\n",
    "\n",
    "    def receive_coin(self, coin_value):\n",
    "        for i in coin_value.split():\n",
    "            if int(i) in self.receivers:\n",
    "                self.receiver1.receive_coin(int(i))\n",
    "            else:\n",
    "                print(f\"Монета номиналом {int(i)} не принимается этим приемником.\\n\")\n",
    "                \n",
    "    def total_amount(self):\n",
    "        total = 0\n",
    "        receivers = [self.receiver1, self.receiver2, self.receiver3, self.receiver4]\n",
    "        for receiver in receivers:\n",
    "            total += receiver.denomination * receiver.count\n",
    "            print(f\"Количество монет номиналом {receiver.denomination} центов: {receiver.count}\")\n",
    "        print(f\"Общая сумма внесенных монет: {total} центов\")\n",
    "\n",
    "# Тестовый стенд\n",
    "machine = CoinMachine()\n",
    "machine.receive_coin(str(input())) #  10 5 25 5 1 25 5 25 1 25\n",
    "machine.total_amount()"
   ]
  },
  {
   "cell_type": "code",
   "execution_count": null,
   "metadata": {},
   "outputs": [],
   "source": []
  }
 ],
 "metadata": {
  "kernelspec": {
   "display_name": "Python 3",
   "language": "python",
   "name": "python3"
  },
  "language_info": {
   "codemirror_mode": {
    "name": "ipython",
    "version": 3
   },
   "file_extension": ".py",
   "mimetype": "text/x-python",
   "name": "python",
   "nbconvert_exporter": "python",
   "pygments_lexer": "ipython3",
   "version": "3.9.13"
  }
 },
 "nbformat": 4,
 "nbformat_minor": 2
}
